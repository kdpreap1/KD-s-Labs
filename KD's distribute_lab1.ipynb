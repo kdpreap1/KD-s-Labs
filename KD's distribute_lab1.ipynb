{
 "cells": [
  {
   "cell_type": "markdown",
   "metadata": {},
   "source": [
    "# Lab 1: Dictionaries and Classes"
   ]
  },
  {
   "cell_type": "markdown",
   "metadata": {},
   "source": [
    "## EXERCISE 1: Count words in Julius Caesar and make a text based histogram\n",
    "\n",
    "Building on the first lab, using lowercase words, lets make a histogram. Create a dictionary `worddict`, that has the counts of all the words in Caesar."
   ]
  },
  {
   "cell_type": "code",
   "execution_count": 2,
   "metadata": {},
   "outputs": [
    {
     "ename": "NameError",
     "evalue": "name 'text' is not defined",
     "output_type": "error",
     "traceback": [
      "\u001b[0;31m---------------------------------------------------------------------------\u001b[0m",
      "\u001b[0;31mNameError\u001b[0m                                 Traceback (most recent call last)",
      "Cell \u001b[0;32mIn[2], line 3\u001b[0m\n\u001b[1;32m      1\u001b[0m \u001b[38;5;66;03m# your code here\u001b[39;00m\n\u001b[1;32m      2\u001b[0m \u001b[38;5;66;03m# Convert all words to lowercase\u001b[39;00m\n\u001b[0;32m----> 3\u001b[0m text \u001b[38;5;241m=\u001b[39m \u001b[43mtext\u001b[49m\u001b[38;5;241m.\u001b[39mlower()\n\u001b[1;32m      5\u001b[0m \u001b[38;5;66;03m# Split the text into individual words\u001b[39;00m\n\u001b[1;32m      6\u001b[0m words \u001b[38;5;241m=\u001b[39m text\u001b[38;5;241m.\u001b[39msplit()\n",
      "\u001b[0;31mNameError\u001b[0m: name 'text' is not defined"
     ]
    }
   ],
   "source": [
    "# your code here\n",
    "# Create a dictionary to store word counts\n",
    "worddict = {}\n",
    "\n",
    "# Iterate over the words and update the count\n",
    "for word in words:\n",
    "    if word in worddict:\n",
    "        worddict[word] += 1\n",
    "    else:\n",
    "        worddict[word] = 1\n",
    "\n",
    "# Print the histogram\n",
    "for word, count in worddict.items():\n",
    "    print(f\"{word}: {'*' * count}\")\n"
   ]
  },
  {
   "cell_type": "markdown",
   "metadata": {},
   "source": [
    "Now here is where the iterative nature of dictionaries can be used to our benefit. We sort the worddict, using the function `worddict.get` to provide the values, which are the counts."
   ]
  },
  {
   "cell_type": "code",
   "execution_count": 3,
   "metadata": {},
   "outputs": [],
   "source": [
    "topwords = sorted(worddict, key = worddict.get, reverse=True)"
   ]
  },
  {
   "cell_type": "code",
   "execution_count": 4,
   "metadata": {},
   "outputs": [],
   "source": [
    "for word in topwords[:20]:\n",
    "    print(word, worddict[word])"
   ]
  },
  {
   "cell_type": "markdown",
   "metadata": {},
   "source": [
    "You can even make a hacky histogram for this by creating a '#' for every 10 occurences"
   ]
  },
  {
   "cell_type": "code",
   "execution_count": 5,
   "metadata": {},
   "outputs": [],
   "source": [
    "for word in topwords[:20]:\n",
    "    print(word+(20 - len(word))*' ', (worddict[word]//10)*'*')"
   ]
  },
  {
   "cell_type": "markdown",
   "metadata": {},
   "source": [
    "## EXERCISE 2: Simulate a Bank Account"
   ]
  },
  {
   "cell_type": "code",
   "execution_count": 8,
   "metadata": {},
   "outputs": [],
   "source": [
    "class BankAccount:\n",
    "    def __init__(self, balance):\n",
    "        self.balance = balance\n",
    "        \n",
    "    def withdraw(self, amount):\n",
    "        self.balance = self.balance - amount"
   ]
  },
  {
   "cell_type": "code",
   "execution_count": 9,
   "metadata": {},
   "outputs": [],
   "source": [
    "myaccount = BankAccount(100)\n",
    "print(myaccount.balance)\n",
    "myaccount.withdraw(20)\n",
    "myaccount.balance"
   ]
  },
  {
   "cell_type": "markdown",
   "metadata": {},
   "source": [
    "Python supports inheritance. Indeed, in python, all classes inherit from object, which means that they all get some attributes and methods from object.\n",
    "\n",
    "What is inheritance, more precisely? In inheritance an object is based on another object. When inheritance is implemented, the methods and attributes that were defined in the base class will also be present in the inherited class. This is generally done to abstract away similar code in multiple classes. The abstracted code will reside in the base class and the previous classes will now inherit from the base class.\n",
    "\n",
    "Let's look at an example of inheritance. In the following example, Rocket is the base class and MarsRover is the inherited class. Notice the string interpolation in the formatting as well."
   ]
  },
  {
   "cell_type": "code",
   "execution_count": 14,
   "metadata": {},
   "outputs": [],
   "source": [
    "class Rocket:\n",
    "    def __init__(self, name, distance):\n",
    "        self.name = name\n",
    "        self.distance = distance\n",
    "\n",
    "    def launch(self):\n",
    "        return \"%s has reached %s\" % (self.name, self.distance)\n",
    "    \n",
    "    def get_maker(self):\n",
    "        return \"%s Launched\" % self.name\n",
    "\n",
    "\n",
    "class MarsRover(Rocket): # inheriting from the base class\n",
    "    def __init__(self, name, distance, maker):\n",
    "        Rocket.__init__(self, name, distance)\n",
    "        self.maker = maker\n",
    "\n",
    "    def get_maker(self):\n",
    "        return \"%s Launched by %s\" % (self.name, self.maker)"
   ]
  },
  {
   "cell_type": "code",
   "execution_count": 15,
   "metadata": {},
   "outputs": [],
   "source": [
    "x = Rocket(\"Simple rocket\", \"till stratosphere\")\n",
    "y = MarsRover(\"Mangalyaan\", \"till Mars\", \"ISRO\")\n",
    "print(x.launch())\n",
    "print(y.launch()) # dispatches to Ricket's launch\n",
    "print(x.get_maker())\n",
    "print(y.get_maker())"
   ]
  },
  {
   "cell_type": "markdown",
   "metadata": {},
   "source": [
    "`launch` is not defined by the derived class `MarsRover` so the `launch` for instance `y` is used from `Rocket`. On the other hand, `MarsRover` defines a new `get_maker` so that overrides the one from `Rocket`. Thus inheritance can be used to share functionality when needed and diversify when not."
   ]
  },
  {
   "cell_type": "markdown",
   "metadata": {},
   "source": [
    "Define an error checking bank account `ECBankAccount` which inherits from `BankAccount` but will not allow overdraws. If there is an overdraw raise a `ValueError` with a message \"Withdrawal Not Allowed\": read up on this. Create two accounts one regular and one he derived class instance and wihdraw more than the balance from both."
   ]
  },
  {
   "cell_type": "code",
   "execution_count": 4,
   "metadata": {},
   "outputs": [
    {
     "name": "stdout",
     "output_type": "stream",
     "text": [
      "Error with account2: Withdrawal Not Allowed\n"
     ]
    }
   ],
   "source": [
    "class BankAccount:\n",
    "    def __init__(self, balance):\n",
    "        self.balance = balance\n",
    "    \n",
    "    def withdraw(self, amount):\n",
    "        self.balance -= amount\n",
    "\n",
    "class ECBankAccount(BankAccount):\n",
    "    def __init__(self, balance):\n",
    "        super().__init__(balance)\n",
    "        \n",
    "    def withdraw(self, amount):\n",
    "        if amount > self.balance:\n",
    "            raise ValueError(\"Withdrawal Not Allowed\")\n",
    "        super().withdraw(amount)\n",
    "\n",
    "# create a regular BankAccount instance\n",
    "account1 = BankAccount(100)\n",
    "\n",
    "# create an ECBankAccount instance\n",
    "account2 = ECBankAccount(100)\n",
    "\n",
    "# withdraw more than the balance from both accounts\n",
    "try:\n",
    "    account1.withdraw(150)\n",
    "except Exception as e:\n",
    "    print(f\"Error with account1: {e}\")\n",
    "\n",
    "try:\n",
    "    account2.withdraw(150)\n",
    "except Exception as e:\n",
    "    print(f\"Error with account2: {e}\")\n",
    "class ECBankAccount:\n",
    "    def __init__(self, balance):\n",
    "        self.balance = balance\n",
    "        \n",
    "    def withdraw(self, amount):\n",
    "        check = self.balance - amount\n",
    "        if check >=0:\n",
    "            self.balance -= amount\n",
    "        else:\n",
    "            raise ValueError(\"Withdrawal Not Allowed\")"
   ]
  },
  {
   "cell_type": "code",
   "execution_count": 22,
   "metadata": {},
   "outputs": [],
   "source": [
    "x = BankAccount(100)\n",
    "x.withdraw(120)\n",
    "x.balance"
   ]
  },
  {
   "cell_type": "code",
   "execution_count": 23,
   "metadata": {},
   "outputs": [],
   "source": [
    "y = ECBankAccount(100)\n",
    "y.withdraw(120)"
   ]
  },
  {
   "cell_type": "code",
   "execution_count": 24,
   "metadata": {},
   "outputs": [],
   "source": [
    "y.balance"
   ]
  }
 ],
 "metadata": {
  "kernelspec": {
   "display_name": "Python 3 (ipykernel)",
   "language": "python",
   "name": "python3"
  },
  "language_info": {
   "codemirror_mode": {
    "name": "ipython",
    "version": 3
   },
   "file_extension": ".py",
   "mimetype": "text/x-python",
   "name": "python",
   "nbconvert_exporter": "python",
   "pygments_lexer": "ipython3",
   "version": "3.11.8"
  }
 },
 "nbformat": 4,
 "nbformat_minor": 4
}
